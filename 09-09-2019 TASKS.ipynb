{
 "cells": [
  {
   "cell_type": "markdown",
   "metadata": {},
   "source": [
    "Question -1:\n",
    "Maximum length: Print the words which length has maximum if multiple names has max length print that names in same line."
   ]
  },
  {
   "cell_type": "code",
   "execution_count": 6,
   "metadata": {},
   "outputs": [
    {
     "name": "stdout",
     "output_type": "stream",
     "text": [
      "sai kumar praveen\n",
      "praveen\n"
     ]
    }
   ],
   "source": [
    "# Solution for 1st question\n",
    "names = input()\n",
    "l = names.split()\n",
    "hi_l=\"\"\n",
    "for i in l:\n",
    "    if len(i)>len(hi_l):\n",
    "        hi_l=i\n",
    "print(hi_l)"
   ]
  },
  {
   "cell_type": "markdown",
   "metadata": {},
   "source": [
    "Question -2:\n",
    "Palindrome: Need to find and print whether this string is a palindrome or not. If yes, print \"YES\" else print \"NO\"."
   ]
  },
  {
   "cell_type": "code",
   "execution_count": 5,
   "metadata": {},
   "outputs": [
    {
     "name": "stdout",
     "output_type": "stream",
     "text": [
      "sai\n",
      "NO\n"
     ]
    }
   ],
   "source": [
    "# Solution for 2nd question\n",
    "string = input()\n",
    "string2 = string[::-1]\n",
    "if string==string2:\n",
    "    print(\"YES\")\n",
    "else:\n",
    "    print(\"NO\")"
   ]
  },
  {
   "cell_type": "markdown",
   "metadata": {},
   "source": [
    "Question -3:\n",
    "Toggle String: You have been given a String S consisting of uppercase and lowercase English alphabets. You need to change the case of each alphabet in this String."
   ]
  },
  {
   "cell_type": "code",
   "execution_count": 4,
   "metadata": {},
   "outputs": [
    {
     "name": "stdout",
     "output_type": "stream",
     "text": [
      "saikumar\n",
      "SAIKUMAR\n"
     ]
    }
   ],
   "source": [
    "# Solution for 3rd quetion\n",
    "s1 = input()\n",
    "s2=''\n",
    "for i in s1:\n",
    "    if i.isupper():\n",
    "        s2=s2+i.lower()\n",
    "    else:\n",
    "        s2=s2+i.upper()\n",
    "print(s2)"
   ]
  },
  {
   "cell_type": "code",
   "execution_count": null,
   "metadata": {},
   "outputs": [],
   "source": []
  }
 ],
 "metadata": {
  "kernelspec": {
   "display_name": "Python 3",
   "language": "python",
   "name": "python3"
  },
  "language_info": {
   "codemirror_mode": {
    "name": "ipython",
    "version": 3
   },
   "file_extension": ".py",
   "mimetype": "text/x-python",
   "name": "python",
   "nbconvert_exporter": "python",
   "pygments_lexer": "ipython3",
   "version": "3.7.3"
  }
 },
 "nbformat": 4,
 "nbformat_minor": 2
}
