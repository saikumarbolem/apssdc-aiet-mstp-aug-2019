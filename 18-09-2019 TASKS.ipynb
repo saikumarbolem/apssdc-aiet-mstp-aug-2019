{
 "cells": [
  {
   "cell_type": "markdown",
   "metadata": {},
   "source": [
    "## 1681A0513"
   ]
  },
  {
   "cell_type": "markdown",
   "metadata": {},
   "source": [
    "#### Question -1:\n",
    "write a program to print the digits in given string using map or filter\n",
    "Input Format:\n",
    "1b3a85a05H4\n",
    "Output Format:\n",
    "1385054"
   ]
  },
  {
   "cell_type": "code",
   "execution_count": 16,
   "metadata": {},
   "outputs": [
    {
     "name": "stdout",
     "output_type": "stream",
     "text": [
      "16811a0513\n"
     ]
    },
    {
     "data": {
      "text/plain": [
       "'168110513'"
      ]
     },
     "execution_count": 16,
     "metadata": {},
     "output_type": "execute_result"
    }
   ],
   "source": [
    "# SOLUTION FOR 1ST QUESTION\n",
    "li=input()\n",
    "def isDigit(c):\n",
    "    c=str(c)\n",
    "    if c.isdigit():\n",
    "        return True\n",
    "    return False\n",
    "''.join(list(filter(isDigit,li)))\n"
   ]
  },
  {
   "cell_type": "markdown",
   "metadata": {},
   "source": [
    "#### Question -2:\n",
    " write a program to print the N qubes sum from 1 to N if n=3(1**3+2**3+3**3)\n",
    "Input Format:\n",
    "3\n",
    "Output Format:\n",
    "36"
   ]
  },
  {
   "cell_type": "code",
   "execution_count": 11,
   "metadata": {},
   "outputs": [
    {
     "name": "stdout",
     "output_type": "stream",
     "text": [
      "7\n",
      "784\n"
     ]
    }
   ],
   "source": [
    "# SOLUTION FOR 2ND QUESTION\n",
    "result = lambda x:x**3\n",
    "num,s=1,0\n",
    "for i in range(1,int(input())+1):\n",
    "    s+=result(i)\n",
    "print(s)\n"
   ]
  }
 ],
 "metadata": {
  "kernelspec": {
   "display_name": "Python 3",
   "language": "python",
   "name": "python3"
  },
  "language_info": {
   "codemirror_mode": {
    "name": "ipython",
    "version": 3
   },
   "file_extension": ".py",
   "mimetype": "text/x-python",
   "name": "python",
   "nbconvert_exporter": "python",
   "pygments_lexer": "ipython3",
   "version": "3.7.3"
  }
 },
 "nbformat": 4,
 "nbformat_minor": 2
}
