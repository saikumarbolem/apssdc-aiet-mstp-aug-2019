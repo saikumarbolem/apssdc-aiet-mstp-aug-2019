{
 "cells": [
  {
   "cell_type": "markdown",
   "metadata": {},
   "source": [
    "Question-1:\n",
    "Prime Number: need to print the series of all prime numbers till N."
   ]
  },
  {
   "cell_type": "code",
   "execution_count": 2,
   "metadata": {},
   "outputs": [
    {
     "name": "stdout",
     "output_type": "stream",
     "text": [
      "enter a number:10\n",
      "2 3 5 7 "
     ]
    }
   ],
   "source": [
    "# solution for 1st quetion\n",
    "num= int(input('enter a number:'))\n",
    "for n in range(1,num+1):\n",
    "    c=0\n",
    "    for i in range(1,n+1):\n",
    "        if (n%i)==0:\n",
    "            c+=1\n",
    "        i+=1\n",
    "    if c==2:\n",
    "        print(n,end=' ')\n",
    "    n+=1"
   ]
  },
  {
   "cell_type": "markdown",
   "metadata": {},
   "source": [
    "Question-2:\n",
    "Count Divisors: You have been given 3 integers - l, r and k. Find how many numbers between l and r (both inclusive) are divisible by k"
   ]
  },
  {
   "cell_type": "code",
   "execution_count": 5,
   "metadata": {},
   "outputs": [
    {
     "name": "stdout",
     "output_type": "stream",
     "text": [
      "enter value for l:1\n",
      "enter value for r:10\n",
      "enter value for k:2\n",
      "5\n"
     ]
    }
   ],
   "source": [
    "# solution for 2nd quetion\n",
    "l=int(input(\"enter value for l:\"))\n",
    "r=int(input(\"enter value for r:\"))\n",
    "k=int(input(\"enter value for k:\"))\n",
    "c=0\n",
    "for i in range(l,(r+1),1):\n",
    "    if (i%k)==0:\n",
    "        c+=1\n",
    "print(c)"
   ]
  },
  {
   "cell_type": "markdown",
   "metadata": {},
   "source": [
    "Question-3:\n",
    "Word Frequency: need to print words with frequency from given sentence (string) in dictionary format"
   ]
  },
  {
   "cell_type": "code",
   "execution_count": 3,
   "metadata": {},
   "outputs": [
    {
     "name": "stdout",
     "output_type": "stream",
     "text": [
      "sai kumar sai laxmi\n",
      "{'sai': 2, 'kumar': 1, 'laxmi': 1}\n"
     ]
    }
   ],
   "source": [
    "def w_count(str):\n",
    "    c=dict()\n",
    "    words=str.split()\n",
    "    for word in words:\n",
    "        if word in c:\n",
    "            c[word]+=1\n",
    "        else:\n",
    "            c[word]=1\n",
    "    return c\n",
    "str1=input(\"\")\n",
    "print(w_count(str1))"
   ]
  }
 ],
 "metadata": {
  "kernelspec": {
   "display_name": "Python 3",
   "language": "python",
   "name": "python3"
  },
  "language_info": {
   "codemirror_mode": {
    "name": "ipython",
    "version": 3
   },
   "file_extension": ".py",
   "mimetype": "text/x-python",
   "name": "python",
   "nbconvert_exporter": "python",
   "pygments_lexer": "ipython3",
   "version": "3.7.3"
  }
 },
 "nbformat": 4,
 "nbformat_minor": 2
}
