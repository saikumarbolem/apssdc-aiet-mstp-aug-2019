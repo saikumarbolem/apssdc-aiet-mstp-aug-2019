{
 "cells": [
  {
   "cell_type": "markdown",
   "metadata": {},
   "source": [
    "Question-1: Write a Python Program to largest of three given numbers (using input statement)"
   ]
  },
  {
   "cell_type": "code",
   "execution_count": 9,
   "metadata": {},
   "outputs": [
    {
     "name": "stdout",
     "output_type": "stream",
     "text": [
      "10\n",
      "20\n",
      "30\n",
      "Largest is  30\n"
     ]
    }
   ],
   "source": [
    "## solution for 1st question\n",
    "a = int(input())\n",
    "b = int(input())\n",
    "c = int(input())\n",
    "if (a>b) and (a>c):\n",
    "        print(\"Largest is\", a)\n",
    "elif (b>a) and (b>c):\n",
    "        print(\"Largest is\", b)\n",
    "else:\n",
    "    print(\"Largest is \",c)"
   ]
  },
  {
   "cell_type": "markdown",
   "metadata": {},
   "source": [
    "Question -2: Write a python program to find the given number(N) in given range(lower bound-upper bound)"
   ]
  },
  {
   "cell_type": "code",
   "execution_count": 4,
   "metadata": {},
   "outputs": [
    {
     "name": "stdout",
     "output_type": "stream",
     "text": [
      "Enter lower bound number23\n",
      "Enter upper bound number30\n",
      "enter N24\n",
      "given number is exist\n"
     ]
    }
   ],
   "source": [
    "# solution for 2nd question\n",
    "lo = int(input(\"Enter lower bound number\"))\n",
    "up = int(input(\"Enter upper bound number\"))\n",
    "N = int(input(\"enter N\"))\n",
    "if N<=up and N>=lo:\n",
    "    print(\"given number is exist\")\n",
    "else:\n",
    "    print(\"given number is not exist\")"
   ]
  },
  {
   "cell_type": "code",
   "execution_count": null,
   "metadata": {},
   "outputs": [],
   "source": []
  }
 ],
 "metadata": {
  "kernelspec": {
   "display_name": "Python 3",
   "language": "python",
   "name": "python3"
  },
  "language_info": {
   "codemirror_mode": {
    "name": "ipython",
    "version": 3
   },
   "file_extension": ".py",
   "mimetype": "text/x-python",
   "name": "python",
   "nbconvert_exporter": "python",
   "pygments_lexer": "ipython3",
   "version": "3.7.3"
  }
 },
 "nbformat": 4,
 "nbformat_minor": 2
}
