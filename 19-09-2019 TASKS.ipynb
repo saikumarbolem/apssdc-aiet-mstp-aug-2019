{
 "cells": [
  {
   "cell_type": "markdown",
   "metadata": {},
   "source": [
    "# 16811A0513"
   ]
  },
  {
   "cell_type": "markdown",
   "metadata": {},
   "source": [
    "###### Question -1:\n",
    "write a program to print the next character of given string except z(z is same as z)\n",
    "Input Format:\n",
    "hello\n",
    "Output Format:\n",
    "ifmmp"
   ]
  },
  {
   "cell_type": "code",
   "execution_count": 24,
   "metadata": {},
   "outputs": [
    {
     "name": "stdout",
     "output_type": "stream",
     "text": [
      "sai ku\n",
      "tbj lv"
     ]
    }
   ],
   "source": [
    "# sOLUTION FOR 1ST QUESTION\n",
    "s=input()\n",
    "for c in s:\n",
    "    if c.isalpha():\n",
    "        if c=='z':\n",
    "            print(c)\n",
    "        else:\n",
    "            print(chr(ord(c)+1),end='')\n",
    "    else: \n",
    "        print(c,end='')"
   ]
  }
 ],
 "metadata": {
  "kernelspec": {
   "display_name": "Python 3",
   "language": "python",
   "name": "python3"
  },
  "language_info": {
   "codemirror_mode": {
    "name": "ipython",
    "version": 3
   },
   "file_extension": ".py",
   "mimetype": "text/x-python",
   "name": "python",
   "nbconvert_exporter": "python",
   "pygments_lexer": "ipython3",
   "version": "3.7.3"
  }
 },
 "nbformat": 4,
 "nbformat_minor": 2
}
